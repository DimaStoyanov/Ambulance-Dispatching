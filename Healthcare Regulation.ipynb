{
 "cells": [
  {
   "cell_type": "markdown",
   "metadata": {},
   "source": [
    "# Healthcare Regulation\n",
    "\n",
    "## Theory\n",
    "\n",
    "\n",
    "### Payoff for every survied patient after 1 year of hospitalization (1YM regulation - 1 year mortality)\n",
    "\n",
    "As in previous article, we will consider 1-D model with 2 hospitals along line with \"passive\" dispathcer. It means, that if no one hospital want to accept patient, dispatcher distribute patient to closest one. \n",
    "\n",
    "Now let modify players payoff functions to foster inter-hospital collaboration for load balancing. For that purpose, we define utility function of hospital as difference between payoff to survived patient and medical expences. This payoff function encourages hospitals to take only those patients whom they can cure.\n",
    "\n",
    "We will define $P_{m1y}$ as probability of 1-year mortality, depending on time to treatment using https://www.ahajournals.org/doi/10.1161/01.CIR.0000121424.76486.20c\n",
    "\n",
    "$$ P_{m1y}(t) = 0.000043 \\cdot x^2 + 0.0045 \\cdot x + 2.86 $$ \n",
    "\n",
    "Time to treatment was calculated from symptom onset to first balloon inflation (true ischemic time). It means that time to treatment may calculated as\n",
    "$$ T_{treatment}(\\lambda) = T_{transp}(\\lambda) + T_{queue}(\\lambda) + T_{surgery} $$\n",
    " \n",
    "Let government revenue for cured patient be $ R_{cured} $.\n",
    "\n",
    "Medical expences consist of transportation and operation costs.\n",
    "$$ E_{med} = C_{transp} + C_{op} $$\n",
    "\n",
    "So modified utility function for hospital will look like:\n",
    "\n",
    "$$ u_i = \\lambda_i \\cdot [(1-P_{m1y}(T_{treatment}) \\cdot R_{cured} - E_{med}] $$\n"
   ]
  },
  {
   "cell_type": "markdown",
   "metadata": {},
   "source": [
    "### Payoff for every survied patient during treatment (D2B regulation - Door-to-balloon)\n",
    "\n",
    "As in previous case, government will motivate hospitals rewarding for every cured patient. But now cured patient means patient, that survived after hospitalization and treatment. \n",
    "\n",
    "We will use table from https://www.bmj.com/content/338/bmj.b1807 and regression to interpolate probability of mortality depending on door-to-balloon time.\n",
    "\n",
    "\n",
    "![image.png](src/images/regulation/Door-to-balloon time.PNG)"
   ]
  },
  {
   "cell_type": "code",
   "execution_count": 54,
   "metadata": {},
   "outputs": [
    {
     "name": "stdout",
     "output_type": "stream",
     "text": [
      "[[ 0.00000000e+00 -2.14727429e-02  4.77004477e-04 -1.09491090e-06]]\n",
      "[3.21208791]\n"
     ]
    },
    {
     "data": {
      "image/png": "[encoded data removed]",
      "text/plain": [
       "<Figure size 432x288 with 1 Axes>"
      ]
     },
     "metadata": {
      "needs_background": "light"
     },
     "output_type": "display_data"
    }
   ],
   "source": [
    "%matplotlib inline\n",
    "\n",
    "import numpy as np\n",
    "import matplotlib.pyplot as plt\n",
    "from sklearn.preprocessing import PolynomialFeatures\n",
    "from sklearn.linear_model import LinearRegression\n",
    "\n",
    "d = 3\n",
    "\n",
    "x = np.array(np.arange(15, 255, 15))\n",
    "y = np.array([2.9, 3, 3.2, 3.5, 3.8, 4.3, 4.9, 5.6, 6.3, 7, 7.7, 8.4, 9.1, 9.7, 10.1, 10.3])\n",
    "\n",
    "x = x[:, np.newaxis]\n",
    "y = y[:, np.newaxis]\n",
    "\n",
    "poly_features = PolynomialFeatures(degree=d)\n",
    "\n",
    "x_poly = poly_features.fit_transform(x)\n",
    "\n",
    "model = LinearRegression()\n",
    "model.fit(x_poly, y)\n",
    "\n",
    "xs = np.linspace(15, 255, 1000)\n",
    "xs = xs[:, np.newaxis]\n",
    "xs_poly = PolynomialFeatures(degree=d).fit_transform(xs)\n",
    "\n",
    "ys = model.predict(xs_poly)\n",
    "\n",
    "\n",
    "plt.scatter(x, y, s=10)\n",
    "plt.plot(xs, ys, color='r')\n",
    "\n",
    "print(model.coef_)\n",
    "print(model.intercept_ )"
   ]
  },
  {
   "cell_type": "markdown",
   "metadata": {},
   "source": [
    "We will define probability of mortality during treatment as $$ P_{mt}(t) = -0.00000109 \\cdot t^3 + 0.000477 \\cdot t^2 - 0.0021473 \\cdot t + 3.212087 $$\n",
    "\n",
    "It is also necessary to note, that some of patients, delivered to hospital may die during waiting in queue. We take this into account in the model, subtracting from the flow of patients part, that would not have been cured (however, the hospital still has expenses for them).\n",
    "\n",
    "$$ \\lambda_i^{cured} = \\lambda_i \\cdot (1 - P_{mt}(T_{treatment}(\\lambda_i)) $$\n",
    "\n",
    "The hospital will receive a reward for all cured patients, and spend on operating expenses. Patients who could not be cured by the hospital will also be spent on transportation.\n",
    "\n",
    "$$ u_i = \\lambda_i^{cured} \\cdot (R_{cured} - E_{op}) - \\lambda_i \\cdot E_{op} $$\n",
    "\n",
    "\n"
   ]
  },
  {
   "cell_type": "markdown",
   "metadata": {},
   "source": [
    "### Dispatcher Regulation\n",
    "\n",
    "City Regulation of healthcare were reviewed in [Dispathcer Notebook](Dispatcher Agent.ipynb)"
   ]
  },
  {
   "cell_type": "markdown",
   "metadata": {},
   "source": [
    "## Results\n",
    "\n",
    "#### Hospital with D2B regulation\n",
    "\n",
    "##### Pure Nash Equilibrium \n",
    "\n",
    "![image.png](src/images/regulation/Hospital With D2B regulation Nash Equ.png)"
   ]
  },
  {
   "cell_type": "markdown",
   "metadata": {},
   "source": [
    "##### Mixed Nash Equilibrium\n",
    "![image.png](src/images/regulation/Hospital With D2B regulation Mixed Nash Equ.png)\n"
   ]
  },
  {
   "cell_type": "markdown",
   "metadata": {},
   "source": [
    "#### Hospital with 1YM regulation\n",
    "\n",
    "\n",
    "##### Pure Nash Equilibrium\n",
    "\n",
    "![image.png](src/images/regulation/Hospital With 1YM regulation Nash Equ.png)"
   ]
  },
  {
   "cell_type": "markdown",
   "metadata": {},
   "source": [
    "##### Mixed Nash Equilibrium\n",
    "\n",
    "![image.png](src/images/regulation/Hospital with 1YM regulation Mixed Nash Equ.png)"
   ]
  }
 ],
 "metadata": {
  "kernelspec": {
   "display_name": "Python 3",
   "language": "python",
   "name": "python3"
  },
  "language_info": {
   "codemirror_mode": {
    "name": "ipython",
    "version": 3
   },
   "file_extension": ".py",
   "mimetype": "text/x-python",
   "name": "python",
   "nbconvert_exporter": "python",
   "pygments_lexer": "ipython3",
   "version": "3.6.5"
  }
 },
 "nbformat": 4,
 "nbformat_minor": 2
}
