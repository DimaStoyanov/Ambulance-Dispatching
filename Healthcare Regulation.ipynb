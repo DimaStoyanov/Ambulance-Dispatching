{
 "cells": [
  {
   "cell_type": "markdown",
   "metadata": {},
   "source": [
    "## Healthcare Regulation\n",
    "\n",
    "\n",
    "### Payoff for every survied patient after 1 year of hospitalization\n",
    "\n",
    "Now we define utility function of hospital as difference between payoff to survived patient and medical expences.\n",
    "\n",
    "We will define $P_{m1y}$ as probability of 1-year mortality, depending on time to treatment using https://www.ahajournals.org/doi/10.1161/01.CIR.0000121424.76486.20c\n",
    "\n",
    "$$ P_{m1y}(t) = 0.000043 \\cdot x^2 + 0.0045 \\cdot x + 2.86 $$ \n",
    "\n",
    "Let government revenue for cured patient be $ R_{cured} $. Medical expences are distribution with mean $ E_{med} $\n",
    "\n",
    "So modified utility function for hospital will look like:\n",
    "\n",
    "$$ u_i = \\lambda_i \\cdot [(1-P_{m1y}(T_{transp} + W_q(\\lambda_i)+\\frac{1}{\\mu}) \\cdot R_{cured} - E_{med}] $$"
   ]
  },
  {
   "cell_type": "markdown",
   "metadata": {},
   "source": []
  },
  {
   "cell_type": "code",
   "execution_count": null,
   "metadata": {},
   "outputs": [],
   "source": []
  }
 ],
 "metadata": {
  "kernelspec": {
   "display_name": "Python 3",
   "language": "python",
   "name": "python3"
  },
  "language_info": {
   "codemirror_mode": {
    "name": "ipython",
    "version": 3
   },
   "file_extension": ".py",
   "mimetype": "text/x-python",
   "name": "python",
   "nbconvert_exporter": "python",
   "pygments_lexer": "ipython3",
   "version": "3.6.5"
  }
 },
 "nbformat": 4,
 "nbformat_minor": 2
}
