{
 "cells": [
  {
   "cell_type": "markdown",
   "metadata": {},
   "source": [
    "# Healthcare Regulation\n",
    "\n",
    "## Theory\n",
    "\n",
    "\n",
    "### Payoff for every survied patient after 1 year of hospitalization (M1Y regulation - Mortality 1-year)\n",
    "\n",
    "As in previous article, we will consider 1-D model with 2 hospitals along line with \"passive\" dispathcer. It means, that if no one hospital want to accept patient, dispatcher distribute patient to closest one. \n",
    "\n",
    "Now let modify players payoff functions to foster inter-hospital collaboration for load balancing. For that purpose, we define utility function of hospital as difference between payoff to survived patient and medical expences. This payoff function encourages hospitals to take only those patients whom they can cure.\n",
    "\n",
    "We will define $P_{m1y}$ as probability of 1-year mortality, depending on time to treatment using https://www.ahajournals.org/doi/10.1161/01.CIR.0000121424.76486.20c\n",
    "\n",
    "$$ P_{m1y}(t) = 0.000043 \\cdot x^2 + 0.0045 \\cdot x + 2.86 $$ \n",
    "\n",
    "Time to treatment was calculated from symptom onset to first balloon inflation (true ischemic time). It means that time to treatment may calculated as\n",
    "$$ T_{treatment}(\\lambda) = T_{transp}(\\lambda) + T_{queue}(\\lambda) + T_{surgery} $$\n",
    " \n",
    "Let government revenue for cured patient be $ R_{cured} $.\n",
    "\n",
    "Medical expences consist of transportation and operation costs.\n",
    "$$ E_{med} = C_{transp} + C_{op} $$\n",
    "\n",
    "So modified utility function for hospital will look like:\n",
    "\n",
    "$$ u_i = \\lambda_i \\cdot [(1-P_{m1y}(T_{treatment}) \\cdot R_{cured} - E_{med}] $$\n"
   ]
  },
  {
   "cell_type": "markdown",
   "metadata": {},
   "source": [
    "### Payoff for every survied patient during treatment (D2B regulation - Door-to-balloon)\n",
    "\n",
    "As in previous case, government will motivate hospitals rewarding for every cured patient. But now cured patient means patient, that survived after hospitalization and treatment. \n",
    "\n",
    "We will use table from https://www.bmj.com/content/338/bmj.b1807 and regression to interpolate probability of mortality depending on door-to-balloon time.\n",
    "\n",
    "\n",
    "![image.png](src/images/regulation/Door-to-balloon time.PNG)"
   ]
  },
  {
   "cell_type": "code",
   "execution_count": 22,
   "metadata": {},
   "outputs": [
    {
     "name": "stdout",
     "output_type": "stream",
     "text": [
      "[[0.00000000e+00 2.25508870e-02 5.82010582e-05]]\n",
      "[2.13785714]\n"
     ]
    },
    {
     "data": {
      "image/png": "[encoded data removed]",
      "text/plain": [
       "<Figure size 432x288 with 1 Axes>"
      ]
     },
     "metadata": {},
     "output_type": "display_data"
    }
   ],
   "source": [
    "%matplotlib inline\n",
    "\n",
    "import numpy as np\n",
    "import matplotlib.pyplot as plt\n",
    "from sklearn.preprocessing import PolynomialFeatures\n",
    "from sklearn.linear_model import LinearRegression\n",
    "\n",
    "d = 2\n",
    "\n",
    "x = np.array(np.arange(15, 255, 15))\n",
    "y = np.array([2.9, 3, 3.2, 3.5, 3.8, 4.3, 4.9, 5.6, 6.3, 7, 7.7, 8.4, 9.1, 9.7, 10.1, 10.3])\n",
    "\n",
    "x = x[:, np.newaxis]\n",
    "y = y[:, np.newaxis]\n",
    "\n",
    "poly_features = PolynomialFeatures(degree=d)\n",
    "\n",
    "x_poly = poly_features.fit_transform(x)\n",
    "\n",
    "model = LinearRegression()\n",
    "model.fit(x_poly, y)\n",
    "\n",
    "xs = np.linspace(0, 300, 1000)\n",
    "xs = xs[:, np.newaxis]\n",
    "xs_poly = PolynomialFeatures(degree=d).fit_transform(xs)\n",
    "\n",
    "ys = model.predict(xs_poly)\n",
    "\n",
    "\n",
    "plt.scatter(x, y, s=10)\n",
    "plt.plot(xs, ys, color='r')\n",
    "\n",
    "print(model.coef_)\n",
    "print(model.intercept_ )"
   ]
  },
  {
   "cell_type": "markdown",
   "metadata": {},
   "source": [
    "We will define probability of mortality during treatment as $$ P_{mt}(t) = 5.82010582e^{-05}  t^2 + 2.25508870e^{-02} t  +  2.13785714 $$\n",
    "\n",
    "It is also necessary to note, that some of patients, delivered to hospital may die during waiting in queue. We take this into account in the model, subtracting from the flow of patients part, that would not have been cured (however, the hospital still has expenses for them).\n",
    "\n",
    "$$ \\lambda_i^{cured} = \\lambda_i \\cdot (1 - P_{mt}(T_{treatment}(\\lambda_i)) $$\n",
    "\n",
    "The hospital will receive a reward for all cured patients, and spend on operating expenses. Patients who could not be cured by the hospital will also be spent on transportation.\n",
    "\n",
    "$$ u_i = \\lambda_i^{cured} \\cdot (R_{cured} - E_{op}) - \\lambda_i \\cdot E_{op} $$\n",
    "\n",
    "\n"
   ]
  },
  {
   "cell_type": "markdown",
   "metadata": {},
   "source": [
    "### Dispatcher Regulation\n",
    "\n",
    "City Regulation of healthcare were reviewed in [Dispathcer Notebook](Dispatcher Agent.ipynb)"
   ]
  },
  {
   "cell_type": "markdown",
   "metadata": {},
   "source": [
    "## Results\n",
    "\n",
    "#### Hospital with D2B regulation\n",
    "\n",
    "##### Pure Nash Equilibrium with high revenue\n",
    "\n",
    "![image.png](src/images/regulation/Hospital With D2B regulation Nash Equ high revenue.png)"
   ]
  },
  {
   "cell_type": "markdown",
   "metadata": {},
   "source": [
    "##### D2B Pure Nash Equilibrium with low revenue\n",
    "\n",
    "![image.png](src/images/regulation/Hospital With D2B regulation Nash Equ low revenue.png)"
   ]
  },
  {
   "cell_type": "markdown",
   "metadata": {},
   "source": [
    "##### D2B Mixed Nash Equilibrium high revenue\n",
    "![image.png](src/images/regulation/Hospital With D2B regulation Mixed Nash Equ high revenue.png)\n"
   ]
  },
  {
   "cell_type": "markdown",
   "metadata": {},
   "source": [
    "##### D2B Mixed Nash Equilibrium low revenue\n",
    "![image.png](src/images/regulation/Hospital With D2B regulation Mixed Nash Equ low revenue.png)\n"
   ]
  },
  {
   "cell_type": "markdown",
   "metadata": {},
   "source": [
    "#### Hospital with M1Y regulation\n",
    "\n",
    "\n",
    "##### Pure Nash Equilibrium high revenue\n",
    "\n",
    "![image.png](src/images/regulation/Hospital with 1YM regulation Mixed Nash Equ high revenue.png)"
   ]
  },
  {
   "cell_type": "markdown",
   "metadata": {},
   "source": [
    "\n",
    "##### M1Y Pure Nash Equilibrium low  revenue\n",
    "\n",
    "![image.png](src/images/regulation/Hospital with 1YM regulation Mixed Nash Equ low revenue.png)"
   ]
  },
  {
   "cell_type": "markdown",
   "metadata": {},
   "source": [
    "##### M1Y Mixed Nash Equilibrium high revenue\n",
    "\n",
    "![image.png](src/images/regulation/Hospital with 1YM regulation Mixed Nash Equ high revenue.png)"
   ]
  },
  {
   "cell_type": "markdown",
   "metadata": {},
   "source": [
    "##### M1Y Mixed Nash Equilibrium low revenue\n",
    "\n",
    "![image.png](src/images/regulation/Hospital with 1YM regulation Mixed Nash Equ low revenue.png)"
   ]
  },
  {
   "cell_type": "markdown",
   "metadata": {},
   "source": [
    "It is easy to see that with low revenue, hospitals act carefully, often redirecting patients. With a high amount of remuneration, all on a turn - hospitals act greedily, taking all patients for themselves.\n",
    "\n",
    "To assess behaviour of hospitals, we will look at global optimal solution. The primary goal of hospitals is to save the lives of patients, so we will evaluate the choice of players' strategies as the percentage of patients who were cured, among all admitted. Obviously, we need to maximize this metric. \n",
    "$$ G_i = \\frac{\\lambda_i^{cured}}{\\lambda_i} $$ "
   ]
  },
  {
   "cell_type": "markdown",
   "metadata": {},
   "source": [
    "Next, we will look how new metric how the new metric behaves with different number of servers, the value of the flow and the chosen strategy\n",
    "\n",
    "#### Cured rate for D2B\n",
    "![image.png](src/images/regulation/Hospital with D2B regulation cured rate.png)"
   ]
  },
  {
   "cell_type": "markdown",
   "metadata": {},
   "source": [
    "##### Cured rate for M1Y\n",
    "\n",
    "![image.png](src/images/regulation/Hospital with M1Y regulation cured rate.png)"
   ]
  },
  {
   "cell_type": "markdown",
   "metadata": {},
   "source": [
    "Obviously, with more patient flow, percentage of cured patients decreases. Also, when number of servers are different, strategies with rejection are more profitable"
   ]
  },
  {
   "cell_type": "markdown",
   "metadata": {},
   "source": [
    "### Global Equilibrium for D2B\n",
    "\n",
    "![image.png](src/images/regulation/Hospital with D2B regulation Global Equ.png)"
   ]
  },
  {
   "cell_type": "markdown",
   "metadata": {},
   "source": [
    "#### Global Equilibrium for M1Y\n",
    "\n",
    "![image.png](src/images/regulation/Hospital with M1Y regulation Global Equ.png)"
   ]
  },
  {
   "cell_type": "markdown",
   "metadata": {},
   "source": [
    "## Comparision of regulations\n",
    "\n",
    "Now we will compare M1Y, D2B and basic model (without regulation - each arrived patient makes a profit to hospital) on proximity to optimal global solution. To achieve this, we will calculate the proportion of matching strategies with different $\\mu$ and $\\lambda$, varying revenue value\n",
    "\n",
    "![image.png](src/images/regulation/Regulation comparision.png)"
   ]
  },
  {
   "cell_type": "markdown",
   "metadata": {},
   "source": [
    "We can see, that for cases with same number of servers in hospitals it more profitable to use higher revenue, because hospitals will use Accept strategy (and there no needs in redirection of patients, because they can be distributed unfiromly)\n",
    "\n",
    "For other cases, lower value of revenue stimulate hospitals to play Reject strategy, and it's rational because system need to balance patients. But, for example in case N=[3,2] nash equilibrium of base model is closer to global solution, than both modified model. \n",
    "\n",
    "It should be noted that we are interested in the upper left corner less than the middle and lower part of the graph - with a small flow and fast treatment any strategy will cope well. Therefore, we will look at the closeness of Nash solutions to global solutions in the case of a large load - when $\\lambda \\geq \\mu $"
   ]
  },
  {
   "cell_type": "markdown",
   "metadata": {},
   "source": [
    "#### Comparitions of regulations in high load ($\\lambda \\geq \\mu$)\n",
    "\n",
    "![image.png](src/images/regulation/Regulation comparision for high load.png)"
   ]
  },
  {
   "cell_type": "markdown",
   "metadata": {},
   "source": [
    "In conclusion note, that both of Door-to-ballon time and 1 Year Mortality regulation methods well brought the optimal solution"
   ]
  }
 ],
 "metadata": {
  "kernelspec": {
   "display_name": "Python 3",
   "language": "python",
   "name": "python3"
  },
  "language_info": {
   "codemirror_mode": {
    "name": "ipython",
    "version": 3
   },
   "file_extension": ".py",
   "mimetype": "text/x-python",
   "name": "python",
   "nbconvert_exporter": "python",
   "pygments_lexer": "ipython3",
   "version": "3.6.5"
  }
 },
 "nbformat": 4,
 "nbformat_minor": 2
}
